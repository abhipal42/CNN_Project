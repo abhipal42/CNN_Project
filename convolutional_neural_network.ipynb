{
  "cells": [
    {
      "cell_type": "markdown",
      "metadata": {
        "colab_type": "text",
        "id": "3DR-eO17geWu"
      },
      "source": [
        "# Convolutional Neural Network"
      ]
    },
    {
      "cell_type": "markdown",
      "metadata": {
        "colab_type": "text",
        "id": "EMefrVPCg-60"
      },
      "source": [
        "### Importing the libraries"
      ]
    },
    {
      "cell_type": "code",
      "execution_count": 1,
      "metadata": {},
      "outputs": [],
      "source": [
        "import tensorflow as tf\n",
        "from keras.preprocessing.image import ImageDataGenerator\n",
        "import PIL"
      ]
    },
    {
      "cell_type": "code",
      "execution_count": 2,
      "metadata": {},
      "outputs": [
        {
          "data": {
            "text/plain": [
              "'2.6.0'"
            ]
          },
          "execution_count": 2,
          "metadata": {},
          "output_type": "execute_result"
        }
      ],
      "source": [
        "tf.__version__"
      ]
    },
    {
      "cell_type": "markdown",
      "metadata": {
        "colab_type": "text",
        "id": "oxQxCBWyoGPE"
      },
      "source": [
        "## Part 1 - Data Preprocessing"
      ]
    },
    {
      "cell_type": "markdown",
      "metadata": {
        "colab_type": "text",
        "id": "MvE-heJNo3GG"
      },
      "source": [
        "### Preprocessing the Training set"
      ]
    },
    {
      "cell_type": "code",
      "execution_count": 3,
      "metadata": {},
      "outputs": [
        {
          "name": "stdout",
          "output_type": "stream",
          "text": [
            "Found 8000 images belonging to 2 classes.\n"
          ]
        }
      ],
      "source": [
        "train_datagen = ImageDataGenerator(\n",
        "    rescale=1./255, #feature scaling\n",
        "\n",
        "    #tranformations to images\n",
        "    shear_range=0.2,\n",
        "    zoom_range=0.2,\n",
        "    horizontal_flip=True\n",
        ")\n",
        "training_set = train_datagen.flow_from_directory(\n",
        "    'dataset/training_set',\n",
        "    target_size=(64,64),\n",
        "    batch_size=32,\n",
        "    class_mode='binary'\n",
        ")"
      ]
    },
    {
      "cell_type": "markdown",
      "metadata": {
        "colab_type": "text",
        "id": "mrCMmGw9pHys"
      },
      "source": [
        "### Preprocessing the Test set"
      ]
    },
    {
      "cell_type": "code",
      "execution_count": 4,
      "metadata": {},
      "outputs": [
        {
          "name": "stdout",
          "output_type": "stream",
          "text": [
            "Found 2000 images belonging to 2 classes.\n"
          ]
        }
      ],
      "source": [
        "test_datagen = ImageDataGenerator(rescale=1./255) #maintain the same feature scaling\n",
        "test_set = test_datagen.flow_from_directory(\n",
        "    'dataset/test_set',\n",
        "    target_size=(64,64),\n",
        "    batch_size=32,\n",
        "    class_mode='binary'\n",
        ")"
      ]
    },
    {
      "cell_type": "markdown",
      "metadata": {
        "colab_type": "text",
        "id": "af8O4l90gk7B"
      },
      "source": [
        "## Part 2 - Building the CNN"
      ]
    },
    {
      "cell_type": "markdown",
      "metadata": {
        "colab_type": "text",
        "id": "ces1gXY2lmoX"
      },
      "source": [
        "### Initialising the CNN"
      ]
    },
    {
      "cell_type": "code",
      "execution_count": 5,
      "metadata": {},
      "outputs": [],
      "source": [
        "cnn = tf.keras.models.Sequential()"
      ]
    },
    {
      "cell_type": "markdown",
      "metadata": {
        "colab_type": "text",
        "id": "u5YJj_XMl5LF"
      },
      "source": [
        "### Step 1 - Convolution"
      ]
    },
    {
      "cell_type": "code",
      "execution_count": 6,
      "metadata": {},
      "outputs": [],
      "source": [
        "cnn.add(tf.keras.layers.Conv2D(filters=32, kernel_size=3, activation='relu', input_shape=[64,64,3])) #input shape is size of image during input layer (MUST FOLLOW target_size)\n"
      ]
    },
    {
      "cell_type": "markdown",
      "metadata": {
        "colab_type": "text",
        "id": "tf87FpvxmNOJ"
      },
      "source": [
        "### Step 2 - Pooling"
      ]
    },
    {
      "cell_type": "code",
      "execution_count": 7,
      "metadata": {},
      "outputs": [],
      "source": [
        "cnn.add(tf.keras.layers.MaxPool2D(pool_size=2, strides=2)) #pool size is how big the pool is; strides how much the pool should slide "
      ]
    },
    {
      "cell_type": "markdown",
      "metadata": {
        "colab_type": "text",
        "id": "xaTOgD8rm4mU"
      },
      "source": [
        "### Adding a second convolutional layer"
      ]
    },
    {
      "cell_type": "code",
      "execution_count": 8,
      "metadata": {},
      "outputs": [],
      "source": [
        "cnn.add(tf.keras.layers.Conv2D(filters=32, kernel_size=3, activation='relu'))\n",
        "cnn.add(tf.keras.layers.MaxPool2D(pool_size=2, strides=2)) "
      ]
    },
    {
      "cell_type": "markdown",
      "metadata": {
        "colab_type": "text",
        "id": "tmiEuvTunKfk"
      },
      "source": [
        "### Step 3 - Flattening"
      ]
    },
    {
      "cell_type": "code",
      "execution_count": 9,
      "metadata": {},
      "outputs": [],
      "source": [
        "cnn.add(tf.keras.layers.Flatten())"
      ]
    },
    {
      "cell_type": "markdown",
      "metadata": {
        "colab_type": "text",
        "id": "dAoSECOm203v"
      },
      "source": [
        "### Step 4 - Full Connection"
      ]
    },
    {
      "cell_type": "code",
      "execution_count": 10,
      "metadata": {},
      "outputs": [],
      "source": [
        "cnn.add(tf.keras.layers.Dense(units=128, activation='relu')) #more complex inputs --> more neurons"
      ]
    },
    {
      "cell_type": "markdown",
      "metadata": {
        "colab_type": "text",
        "id": "yTldFvbX28Na"
      },
      "source": [
        "### Step 5 - Output Layer"
      ]
    },
    {
      "cell_type": "code",
      "execution_count": 11,
      "metadata": {},
      "outputs": [],
      "source": [
        "cnn.add(tf.keras.layers.Dense(units=1, activation='sigmoid')) #use sigmoid for binary classification"
      ]
    },
    {
      "cell_type": "markdown",
      "metadata": {
        "colab_type": "text",
        "id": "D6XkI90snSDl"
      },
      "source": [
        "## Part 3 - Training the CNN"
      ]
    },
    {
      "cell_type": "markdown",
      "metadata": {
        "colab_type": "text",
        "id": "vfrFQACEnc6i"
      },
      "source": [
        "### Compiling the CNN"
      ]
    },
    {
      "cell_type": "code",
      "execution_count": 12,
      "metadata": {},
      "outputs": [],
      "source": [
        "cnn.compile(optimizer = 'adam', loss='binary_crossentropy', metrics=['accuracy'])"
      ]
    },
    {
      "cell_type": "markdown",
      "metadata": {
        "colab_type": "text",
        "id": "ehS-v3MIpX2h"
      },
      "source": [
        "### Training the CNN on the Training set and evaluating it on the Test set"
      ]
    },
    {
      "cell_type": "code",
      "execution_count": 13,
      "metadata": {},
      "outputs": [
        {
          "name": "stdout",
          "output_type": "stream",
          "text": [
            "Epoch 1/25\n",
            "250/250 [==============================] - 126s 503ms/step - loss: 0.6678 - accuracy: 0.5869 - val_loss: 0.6156 - val_accuracy: 0.6740\n",
            "Epoch 2/25\n",
            "250/250 [==============================] - 67s 268ms/step - loss: 0.6058 - accuracy: 0.6684 - val_loss: 0.5917 - val_accuracy: 0.6885\n",
            "Epoch 3/25\n",
            "250/250 [==============================] - 72s 289ms/step - loss: 0.5532 - accuracy: 0.7145 - val_loss: 0.5244 - val_accuracy: 0.7465\n",
            "Epoch 4/25\n",
            "250/250 [==============================] - 81s 323ms/step - loss: 0.5286 - accuracy: 0.7347 - val_loss: 0.5075 - val_accuracy: 0.7580\n",
            "Epoch 5/25\n",
            "250/250 [==============================] - 73s 291ms/step - loss: 0.5013 - accuracy: 0.7561 - val_loss: 0.4909 - val_accuracy: 0.7625\n",
            "Epoch 6/25\n",
            "250/250 [==============================] - 74s 297ms/step - loss: 0.4859 - accuracy: 0.7630 - val_loss: 0.5102 - val_accuracy: 0.7565\n",
            "Epoch 7/25\n",
            "250/250 [==============================] - 71s 283ms/step - loss: 0.4761 - accuracy: 0.7694 - val_loss: 0.4979 - val_accuracy: 0.7710\n",
            "Epoch 8/25\n",
            "250/250 [==============================] - 68s 273ms/step - loss: 0.4473 - accuracy: 0.7861 - val_loss: 0.5171 - val_accuracy: 0.7535\n",
            "Epoch 9/25\n",
            "250/250 [==============================] - 67s 266ms/step - loss: 0.4349 - accuracy: 0.7946 - val_loss: 0.5454 - val_accuracy: 0.7435\n",
            "Epoch 10/25\n",
            "250/250 [==============================] - 67s 268ms/step - loss: 0.4245 - accuracy: 0.7986 - val_loss: 0.5063 - val_accuracy: 0.7595\n",
            "Epoch 11/25\n",
            "250/250 [==============================] - 66s 266ms/step - loss: 0.4080 - accuracy: 0.8123 - val_loss: 0.5009 - val_accuracy: 0.7695\n",
            "Epoch 12/25\n",
            "250/250 [==============================] - 63s 254ms/step - loss: 0.3855 - accuracy: 0.8242 - val_loss: 0.4756 - val_accuracy: 0.7780\n",
            "Epoch 13/25\n",
            "250/250 [==============================] - 50s 199ms/step - loss: 0.3720 - accuracy: 0.8301 - val_loss: 0.4880 - val_accuracy: 0.7790\n",
            "Epoch 14/25\n",
            "250/250 [==============================] - 42s 166ms/step - loss: 0.3631 - accuracy: 0.8378 - val_loss: 0.5107 - val_accuracy: 0.7775\n",
            "Epoch 15/25\n",
            "250/250 [==============================] - 41s 163ms/step - loss: 0.3398 - accuracy: 0.8482 - val_loss: 0.4769 - val_accuracy: 0.7975\n",
            "Epoch 16/25\n",
            "250/250 [==============================] - 42s 166ms/step - loss: 0.3274 - accuracy: 0.8577 - val_loss: 0.4602 - val_accuracy: 0.8015\n",
            "Epoch 17/25\n",
            "250/250 [==============================] - 41s 166ms/step - loss: 0.3192 - accuracy: 0.8612 - val_loss: 0.4945 - val_accuracy: 0.7835\n",
            "Epoch 18/25\n",
            "250/250 [==============================] - 41s 164ms/step - loss: 0.3079 - accuracy: 0.8685 - val_loss: 0.4614 - val_accuracy: 0.8015\n",
            "Epoch 19/25\n",
            "250/250 [==============================] - 42s 167ms/step - loss: 0.2933 - accuracy: 0.8751 - val_loss: 0.5021 - val_accuracy: 0.7825\n",
            "Epoch 20/25\n",
            "250/250 [==============================] - 41s 163ms/step - loss: 0.2799 - accuracy: 0.8776 - val_loss: 0.5586 - val_accuracy: 0.7810\n",
            "Epoch 21/25\n",
            "250/250 [==============================] - 41s 164ms/step - loss: 0.2744 - accuracy: 0.8857 - val_loss: 0.5194 - val_accuracy: 0.7875\n",
            "Epoch 22/25\n",
            "250/250 [==============================] - 42s 166ms/step - loss: 0.2626 - accuracy: 0.8901 - val_loss: 0.5600 - val_accuracy: 0.7845\n",
            "Epoch 23/25\n",
            "250/250 [==============================] - 41s 164ms/step - loss: 0.2463 - accuracy: 0.8967 - val_loss: 0.5604 - val_accuracy: 0.7835\n",
            "Epoch 24/25\n",
            "250/250 [==============================] - 42s 166ms/step - loss: 0.2394 - accuracy: 0.8978 - val_loss: 0.5023 - val_accuracy: 0.7945\n",
            "Epoch 25/25\n",
            "250/250 [==============================] - 41s 163ms/step - loss: 0.2280 - accuracy: 0.9047 - val_loss: 0.5523 - val_accuracy: 0.8010\n"
          ]
        },
        {
          "data": {
            "text/plain": [
              "<keras.callbacks.History at 0x1cd58761520>"
            ]
          },
          "execution_count": 13,
          "metadata": {},
          "output_type": "execute_result"
        }
      ],
      "source": [
        "cnn.fit(x=training_set, validation_data=test_set, epochs=25)"
      ]
    },
    {
      "cell_type": "markdown",
      "metadata": {
        "colab_type": "text",
        "id": "U3PZasO0006Z"
      },
      "source": [
        "## Part 4 - Making a single prediction"
      ]
    },
    {
      "cell_type": "code",
      "execution_count": 22,
      "metadata": {},
      "outputs": [],
      "source": [
        "import numpy as np\n",
        "from keras.preprocessing import image\n",
        "test_image = image.load_img('dataset/single_prediction/levi.jpg', target_size=(64,64))\n",
        "test_image = image.img_to_array(test_image)\n",
        "test_image = np.expand_dims(test_image, axis=0) #create a \"fake\" batch for the single image\n",
        "result = cnn.predict(test_image/255.0) #normalize the image\n",
        "\n",
        "training_set.class_indices #identify the right class indices\n",
        "if result[0][0] > 0.5:\n",
        "    prediction = \"dog\"\n",
        "else:\n",
        "    prediction = \"cat\""
      ]
    },
    {
      "cell_type": "code",
      "execution_count": 23,
      "metadata": {},
      "outputs": [
        {
          "name": "stdout",
          "output_type": "stream",
          "text": [
            "cat\n"
          ]
        }
      ],
      "source": [
        "print(prediction)"
      ]
    },
    {
      "cell_type": "code",
      "execution_count": null,
      "metadata": {},
      "outputs": [],
      "source": []
    }
  ],
  "metadata": {
    "colab": {
      "collapsed_sections": [],
      "name": "convolutional_neural_network.ipynb",
      "provenance": [],
      "toc_visible": true
    },
    "interpreter": {
      "hash": "4946931a8918bbb5130182eb31d4a5c7824764c406ba2f92c5beaee952cca07f"
    },
    "kernelspec": {
      "display_name": "Python 3.9.6 64-bit",
      "name": "python3"
    },
    "language_info": {
      "codemirror_mode": {
        "name": "ipython",
        "version": 3
      },
      "file_extension": ".py",
      "mimetype": "text/x-python",
      "name": "python",
      "nbconvert_exporter": "python",
      "pygments_lexer": "ipython3",
      "version": "3.9.6"
    }
  },
  "nbformat": 4,
  "nbformat_minor": 0
}
