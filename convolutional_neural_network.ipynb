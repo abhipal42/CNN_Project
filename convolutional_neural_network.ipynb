{
  "cells": [
    {
      "cell_type": "markdown",
      "metadata": {
        "colab_type": "text",
        "id": "3DR-eO17geWu"
      },
      "source": [
        "# Convolutional Neural Network"
      ]
    },
    {
      "cell_type": "markdown",
      "metadata": {
        "colab_type": "text",
        "id": "EMefrVPCg-60"
      },
      "source": [
        "### Importing the libraries"
      ]
    },
    {
      "cell_type": "code",
      "execution_count": 2,
      "metadata": {},
      "outputs": [],
      "source": [
        "import tensorflow as tf\n",
        "from keras.preprocessing.image import ImageDataGenerator\n",
        "import PIL"
      ]
    },
    {
      "cell_type": "code",
      "execution_count": 3,
      "metadata": {},
      "outputs": [
        {
          "data": {
            "text/plain": [
              "'2.6.0'"
            ]
          },
          "execution_count": 3,
          "metadata": {},
          "output_type": "execute_result"
        }
      ],
      "source": [
        "tf.__version__"
      ]
    },
    {
      "cell_type": "markdown",
      "metadata": {
        "colab_type": "text",
        "id": "oxQxCBWyoGPE"
      },
      "source": [
        "## Part 1 - Data Preprocessing"
      ]
    },
    {
      "cell_type": "markdown",
      "metadata": {
        "colab_type": "text",
        "id": "MvE-heJNo3GG"
      },
      "source": [
        "### Preprocessing the Training set"
      ]
    },
    {
      "cell_type": "code",
      "execution_count": 4,
      "metadata": {},
      "outputs": [
        {
          "name": "stdout",
          "output_type": "stream",
          "text": [
            "Found 8000 images belonging to 2 classes.\n"
          ]
        }
      ],
      "source": [
        "train_datagen = ImageDataGenerator(\n",
        "    rescale=1./255, #feature scaling\n",
        "\n",
        "    #tranformations to images\n",
        "    shear_range=0.2,\n",
        "    zoom_range=0.2,\n",
        "    horizontal_flip=True\n",
        ")\n",
        "training_set = train_datagen.flow_from_directory(\n",
        "    'dataset/training_set',\n",
        "    target_size=(64,64),\n",
        "    batch_size=32,\n",
        "    class_mode='binary'\n",
        ")"
      ]
    },
    {
      "cell_type": "markdown",
      "metadata": {
        "colab_type": "text",
        "id": "mrCMmGw9pHys"
      },
      "source": [
        "### Preprocessing the Test set"
      ]
    },
    {
      "cell_type": "code",
      "execution_count": 5,
      "metadata": {},
      "outputs": [
        {
          "name": "stdout",
          "output_type": "stream",
          "text": [
            "Found 2000 images belonging to 2 classes.\n"
          ]
        }
      ],
      "source": [
        "test_datagen = ImageDataGenerator(rescale=1./255) #maintain the same feature scaling\n",
        "test_set = test_datagen.flow_from_directory(\n",
        "    'dataset/test_set',\n",
        "    target_size=(64,64),\n",
        "    batch_size=32,\n",
        "    class_mode='binary'\n",
        ")"
      ]
    },
    {
      "cell_type": "markdown",
      "metadata": {
        "colab_type": "text",
        "id": "af8O4l90gk7B"
      },
      "source": [
        "## Part 2 - Building the CNN"
      ]
    },
    {
      "cell_type": "markdown",
      "metadata": {
        "colab_type": "text",
        "id": "ces1gXY2lmoX"
      },
      "source": [
        "### Initialising the CNN"
      ]
    },
    {
      "cell_type": "code",
      "execution_count": 6,
      "metadata": {},
      "outputs": [],
      "source": [
        "cnn = tf.keras.models.Sequential()"
      ]
    },
    {
      "cell_type": "markdown",
      "metadata": {
        "colab_type": "text",
        "id": "u5YJj_XMl5LF"
      },
      "source": [
        "### Step 1 - Convolution"
      ]
    },
    {
      "cell_type": "code",
      "execution_count": 7,
      "metadata": {},
      "outputs": [],
      "source": [
        "cnn.add(tf.keras.layers.Conv2D(filters=32, kernel_size=3, activation='relu', input_shape=[64,64,3])) #input shape is size of image during input layer (MUST FOLLOW target_size)\n"
      ]
    },
    {
      "cell_type": "markdown",
      "metadata": {
        "colab_type": "text",
        "id": "tf87FpvxmNOJ"
      },
      "source": [
        "### Step 2 - Pooling"
      ]
    },
    {
      "cell_type": "code",
      "execution_count": 8,
      "metadata": {},
      "outputs": [],
      "source": [
        "cnn.add(tf.keras.layers.MaxPool2D(pool_size=2, strides=2)) #pool size is how big the pool is; strides how much the pool should slide "
      ]
    },
    {
      "cell_type": "markdown",
      "metadata": {
        "colab_type": "text",
        "id": "xaTOgD8rm4mU"
      },
      "source": [
        "### Adding a second convolutional layer"
      ]
    },
    {
      "cell_type": "code",
      "execution_count": 9,
      "metadata": {},
      "outputs": [],
      "source": [
        "cnn.add(tf.keras.layers.Conv2D(filters=32, kernel_size=3, activation='relu'))\n",
        "cnn.add(tf.keras.layers.MaxPool2D(pool_size=2, strides=2)) "
      ]
    },
    {
      "cell_type": "markdown",
      "metadata": {
        "colab_type": "text",
        "id": "tmiEuvTunKfk"
      },
      "source": [
        "### Step 3 - Flattening"
      ]
    },
    {
      "cell_type": "code",
      "execution_count": 10,
      "metadata": {},
      "outputs": [],
      "source": [
        "cnn.add(tf.keras.layers.Flatten())"
      ]
    },
    {
      "cell_type": "markdown",
      "metadata": {
        "colab_type": "text",
        "id": "dAoSECOm203v"
      },
      "source": [
        "### Step 4 - Full Connection"
      ]
    },
    {
      "cell_type": "code",
      "execution_count": 11,
      "metadata": {},
      "outputs": [],
      "source": [
        "cnn.add(tf.keras.layers.Dense(units=128, activation='relu')) #more complex inputs --> more neurons"
      ]
    },
    {
      "cell_type": "markdown",
      "metadata": {
        "colab_type": "text",
        "id": "yTldFvbX28Na"
      },
      "source": [
        "### Step 5 - Output Layer"
      ]
    },
    {
      "cell_type": "code",
      "execution_count": 12,
      "metadata": {},
      "outputs": [],
      "source": [
        "cnn.add(tf.keras.layers.Dense(units=1, activation='sigmoid')) #use sigmoid for binary classification"
      ]
    },
    {
      "cell_type": "markdown",
      "metadata": {
        "colab_type": "text",
        "id": "D6XkI90snSDl"
      },
      "source": [
        "## Part 3 - Training the CNN"
      ]
    },
    {
      "cell_type": "markdown",
      "metadata": {
        "colab_type": "text",
        "id": "vfrFQACEnc6i"
      },
      "source": [
        "### Compiling the CNN"
      ]
    },
    {
      "cell_type": "code",
      "execution_count": 13,
      "metadata": {},
      "outputs": [],
      "source": [
        "cnn.compile(optimizer = 'adam', loss='binary_crossentropy', metrics=['accuracy'])"
      ]
    },
    {
      "cell_type": "markdown",
      "metadata": {
        "colab_type": "text",
        "id": "ehS-v3MIpX2h"
      },
      "source": [
        "### Training the CNN on the Training set and evaluating it on the Test set"
      ]
    },
    {
      "cell_type": "code",
      "execution_count": 14,
      "metadata": {},
      "outputs": [
        {
          "name": "stdout",
          "output_type": "stream",
          "text": [
            "Epoch 1/25\n",
            "250/250 [==============================] - 149s 587ms/step - loss: 0.6795 - accuracy: 0.5545 - val_loss: 0.6681 - val_accuracy: 0.6065\n",
            "Epoch 2/25\n",
            "250/250 [==============================] - 67s 268ms/step - loss: 0.6253 - accuracy: 0.6536 - val_loss: 0.6462 - val_accuracy: 0.6135\n",
            "Epoch 3/25\n",
            "250/250 [==============================] - 68s 272ms/step - loss: 0.5750 - accuracy: 0.6981 - val_loss: 0.5649 - val_accuracy: 0.7150\n",
            "Epoch 4/25\n",
            "250/250 [==============================] - 68s 270ms/step - loss: 0.5371 - accuracy: 0.7281 - val_loss: 0.5914 - val_accuracy: 0.6920\n",
            "Epoch 5/25\n",
            "250/250 [==============================] - 69s 274ms/step - loss: 0.5160 - accuracy: 0.7406 - val_loss: 0.5191 - val_accuracy: 0.7520\n",
            "Epoch 6/25\n",
            "250/250 [==============================] - 67s 267ms/step - loss: 0.4932 - accuracy: 0.7548 - val_loss: 0.4827 - val_accuracy: 0.7770\n",
            "Epoch 7/25\n",
            "250/250 [==============================] - 34s 137ms/step - loss: 0.4758 - accuracy: 0.7666 - val_loss: 0.4824 - val_accuracy: 0.7760\n",
            "Epoch 8/25\n",
            "250/250 [==============================] - 34s 137ms/step - loss: 0.4545 - accuracy: 0.7826 - val_loss: 0.5204 - val_accuracy: 0.7490\n",
            "Epoch 9/25\n",
            "250/250 [==============================] - 34s 137ms/step - loss: 0.4401 - accuracy: 0.7944 - val_loss: 0.4804 - val_accuracy: 0.7730\n",
            "Epoch 10/25\n",
            "250/250 [==============================] - 35s 140ms/step - loss: 0.4253 - accuracy: 0.8004 - val_loss: 0.4692 - val_accuracy: 0.7855\n",
            "Epoch 11/25\n",
            "250/250 [==============================] - 35s 138ms/step - loss: 0.4049 - accuracy: 0.8131 - val_loss: 0.4641 - val_accuracy: 0.7850\n",
            "Epoch 12/25\n",
            "250/250 [==============================] - 40s 160ms/step - loss: 0.3854 - accuracy: 0.8263 - val_loss: 0.4777 - val_accuracy: 0.7890\n",
            "Epoch 13/25\n",
            "250/250 [==============================] - 49s 196ms/step - loss: 0.3760 - accuracy: 0.8326 - val_loss: 0.4481 - val_accuracy: 0.7985\n",
            "Epoch 14/25\n",
            "250/250 [==============================] - 46s 183ms/step - loss: 0.3472 - accuracy: 0.8443 - val_loss: 0.4762 - val_accuracy: 0.7895\n",
            "Epoch 15/25\n",
            "250/250 [==============================] - 40s 161ms/step - loss: 0.3409 - accuracy: 0.8559 - val_loss: 0.5439 - val_accuracy: 0.7570\n",
            "Epoch 16/25\n",
            "250/250 [==============================] - 41s 162ms/step - loss: 0.3262 - accuracy: 0.8545 - val_loss: 0.5059 - val_accuracy: 0.7815\n",
            "Epoch 17/25\n",
            "250/250 [==============================] - 40s 162ms/step - loss: 0.3027 - accuracy: 0.8660 - val_loss: 0.4747 - val_accuracy: 0.7970\n",
            "Epoch 18/25\n",
            "250/250 [==============================] - 37s 149ms/step - loss: 0.2861 - accuracy: 0.8744 - val_loss: 0.4836 - val_accuracy: 0.8030\n",
            "Epoch 19/25\n",
            "250/250 [==============================] - 37s 148ms/step - loss: 0.2631 - accuracy: 0.8889 - val_loss: 0.4959 - val_accuracy: 0.8005\n",
            "Epoch 20/25\n",
            "250/250 [==============================] - 38s 151ms/step - loss: 0.2490 - accuracy: 0.8970 - val_loss: 0.5020 - val_accuracy: 0.8110\n",
            "Epoch 21/25\n",
            "250/250 [==============================] - 37s 148ms/step - loss: 0.2308 - accuracy: 0.9041 - val_loss: 0.5334 - val_accuracy: 0.7950\n",
            "Epoch 22/25\n",
            "250/250 [==============================] - 37s 146ms/step - loss: 0.2208 - accuracy: 0.9144 - val_loss: 0.5444 - val_accuracy: 0.8035\n",
            "Epoch 23/25\n",
            "250/250 [==============================] - 38s 152ms/step - loss: 0.2162 - accuracy: 0.9139 - val_loss: 0.5530 - val_accuracy: 0.7980\n",
            "Epoch 24/25\n",
            "250/250 [==============================] - 39s 156ms/step - loss: 0.1975 - accuracy: 0.9215 - val_loss: 0.5420 - val_accuracy: 0.7940\n",
            "Epoch 25/25\n",
            "250/250 [==============================] - 40s 158ms/step - loss: 0.1845 - accuracy: 0.9298 - val_loss: 0.6219 - val_accuracy: 0.8020\n"
          ]
        },
        {
          "data": {
            "text/plain": [
              "<keras.callbacks.History at 0x1d39c508be0>"
            ]
          },
          "execution_count": 14,
          "metadata": {},
          "output_type": "execute_result"
        }
      ],
      "source": [
        "cnn.fit(x=training_set, validation_data=test_set, epochs=25)"
      ]
    },
    {
      "cell_type": "markdown",
      "metadata": {
        "colab_type": "text",
        "id": "U3PZasO0006Z"
      },
      "source": [
        "## Part 4 - Making a single prediction"
      ]
    },
    {
      "cell_type": "code",
      "execution_count": 25,
      "metadata": {},
      "outputs": [],
      "source": [
        "import numpy as np\n",
        "from keras.preprocessing import image\n",
        "test_image = image.load_img('dataset/single_prediction/levi.jpg', target_size=(64,64))\n",
        "test_image = image.img_to_array(test_image)\n",
        "test_image = np.expand_dims(test_image, axis=0) #create a \"fake\" batch for the single image\n",
        "result = cnn.predict(test_image/255.0) #normalize the image\n",
        "\n",
        "training_set.class_indices #identify the right class indices\n",
        "if result[0][0] > 0.5:\n",
        "    prediction = \"dog\"\n",
        "else:\n",
        "    prediction = \"cat\""
      ]
    },
    {
      "cell_type": "code",
      "execution_count": 24,
      "metadata": {},
      "outputs": [
        {
          "name": "stdout",
          "output_type": "stream",
          "text": [
            "dog\n"
          ]
        }
      ],
      "source": [
        "print(prediction)"
      ]
    }
  ],
  "metadata": {
    "colab": {
      "collapsed_sections": [],
      "name": "convolutional_neural_network.ipynb",
      "provenance": [],
      "toc_visible": true
    },
    "interpreter": {
      "hash": "4946931a8918bbb5130182eb31d4a5c7824764c406ba2f92c5beaee952cca07f"
    },
    "kernelspec": {
      "display_name": "Python 3.9.6 64-bit",
      "name": "python3"
    },
    "language_info": {
      "codemirror_mode": {
        "name": "ipython",
        "version": 3
      },
      "file_extension": ".py",
      "mimetype": "text/x-python",
      "name": "python",
      "nbconvert_exporter": "python",
      "pygments_lexer": "ipython3",
      "version": "3.9.6"
    }
  },
  "nbformat": 4,
  "nbformat_minor": 0
}
